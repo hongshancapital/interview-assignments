{
 "cells": [
  {
   "cell_type": "code",
   "execution_count": 1,
   "metadata": {},
   "outputs": [],
   "source": [
    "import gzip\n",
    "import json\n",
    "import datetime\n",
    "import requests"
   ]
  },
  {
   "cell_type": "markdown",
   "metadata": {},
   "source": [
    "### 日志内容概览"
   ]
  },
  {
   "cell_type": "code",
   "execution_count": 2,
   "metadata": {},
   "outputs": [],
   "source": [
    "lines = gzip.open('DevOps_interview_data_set.gz', 'rb').read().decode('ascii').replace('\\n\\t', '').splitlines()"
   ]
  },
  {
   "cell_type": "code",
   "execution_count": 3,
   "metadata": {},
   "outputs": [
    {
     "data": {
      "text/plain": [
       "2038"
      ]
     },
     "execution_count": 3,
     "metadata": {},
     "output_type": "execute_result"
    }
   ],
   "source": [
    "len(lines)"
   ]
  },
  {
   "cell_type": "code",
   "execution_count": 4,
   "metadata": {
    "scrolled": true
   },
   "outputs": [
    {
     "data": {
      "text/plain": [
       "'May 13 00:01:58 BBAOMACBOOKAIR2 com.apple.xpc.launchd[1] (com.apple.mdworker.bundles[12513]): Could not find uid associated with service: 0: Undefined error: 0 501'"
      ]
     },
     "execution_count": 4,
     "metadata": {},
     "output_type": "execute_result"
    }
   ],
   "source": [
    "lines[0]"
   ]
  },
  {
   "cell_type": "code",
   "execution_count": 5,
   "metadata": {},
   "outputs": [
    {
     "data": {
      "text/plain": [
       "['May 13 23:58:26 BBAOMACBOOKAIR2 com.apple.xpc.launchd[1] (com.apple.mdworker.bundles[56381]): Service exited with abnormal code: 78']"
      ]
     },
     "execution_count": 5,
     "metadata": {},
     "output_type": "execute_result"
    }
   ],
   "source": [
    "lines[len(lines)-1:]"
   ]
  },
  {
   "cell_type": "markdown",
   "metadata": {},
   "source": [
    "### 格式化日志"
   ]
  },
  {
   "cell_type": "code",
   "execution_count": 6,
   "metadata": {},
   "outputs": [],
   "source": [
    "class Log:\n",
    "    pass\n",
    "\n",
    "logs = []\n",
    "for line in lines:\n",
    "    # May 13 00:22:49 --- last message repeated 1 time ---\n",
    "    if line.find('last message repeated 1 time') > 0:\n",
    "        continue\n",
    "    \n",
    "    # May 13 00:19:59 BBAOMACBOOKAIR2 com.apple.xpc.launchd[1] (com.apple.mdworker.bundles[12556]): Service exited with abnormal code: 78\n",
    "    log = Log()\n",
    "    \n",
    "    # May 13 00:19:59\n",
    "    log.time = line[0:15]\n",
    "    log.hour = datetime.datetime.strptime(log.time, '%b %d %H:%M:%S').hour\n",
    "    \n",
    "    # BBAOMACBOOKAIR2 com.apple.xpc.launchd[1] (com.apple.mdworker.bundles[12556]): Service exited with abnormal code: 78\n",
    "    logWithoutTime = line[16:]\n",
    "    \n",
    "    index = logWithoutTime.find(':')\n",
    "    log.description = logWithoutTime[index+1:].strip(' ')\n",
    "    \n",
    "    # BBAOMACBOOKAIR2 com.apple.xpc.launchd[1] (com.apple.mdworker.bundles[12556])\n",
    "    logWithoutTimeAndDesc = logWithoutTime[0:index]\n",
    "    \n",
    "    deviceIndex = logWithoutTimeAndDesc.find(' ')\n",
    "    log.deviceName = logWithoutTimeAndDesc[0:deviceIndex]\n",
    "    \n",
    "    left = logWithoutTimeAndDesc.find('[')\n",
    "    log.processName = logWithoutTimeAndDesc[deviceIndex:left].strip(' ')\n",
    "    right = logWithoutTimeAndDesc.find(']')\n",
    "    log.processId = int(logWithoutTimeAndDesc[left+1:right])\n",
    "    \n",
    "    logs.append(log)"
   ]
  },
  {
   "cell_type": "code",
   "execution_count": 7,
   "metadata": {},
   "outputs": [
    {
     "name": "stdout",
     "output_type": "stream",
     "text": [
      "[\n",
      "    {\n",
      "        \"time\": \"May 13 00:01:58\",\n",
      "        \"hour\": 0,\n",
      "        \"description\": \"Could not find uid associated with service: 0: Undefined error: 0 501\",\n",
      "        \"deviceName\": \"BBAOMACBOOKAIR2\",\n",
      "        \"processName\": \"com.apple.xpc.launchd\",\n",
      "        \"processId\": 1\n",
      "    },\n",
      "    {\n",
      "        \"time\": \"May 13 00:01:58\",\n",
      "        \"hour\": 0,\n",
      "        \"description\": \"Service exited with abnormal code: 78\",\n",
      "        \"deviceName\": \"BBAOMACBOOKAIR2\",\n",
      "        \"processName\": \"com.apple.xpc.launchd\",\n",
      "        \"processId\": 1\n",
      "    },\n",
      "    {\n",
      "        \"time\": \"May 13 00:02:12\",\n",
      "        \"hour\": 0,\n",
      "        \"description\": \"Failed to bootstrap path: path = /usr/libexec/mdmclient, error = 108: Invalid path\",\n",
      "        \"deviceName\": \"BBAOMACBOOKAIR2\",\n",
      "        \"processName\": \"com.apple.xpc.launchd\",\n",
      "        \"processId\": 1\n",
      "    },\n",
      "    {\n",
      "        \"time\": \"May 13 00:04:20\",\n",
      "        \"hour\": 0,\n",
      "        \"description\": \"ASL Sender Statistics\",\n",
      "        \"deviceName\": \"BBAOMACBOOKAIR2\",\n",
      "        \"processName\": \"syslogd\",\n",
      "        \"processId\": 113\n",
      "    },\n",
      "    {\n",
      "        \"time\": \"May 13 00:05:58\",\n",
      "        \"hour\": 0,\n",
      "        \"description\": \"Could not find uid associated with service: 0: Undefined error: 0 501\",\n",
      "        \"deviceName\": \"BBAOMACBOOKAIR2\",\n",
      "        \"processName\": \"com.apple.xpc.launchd\",\n",
      "        \"processId\": 1\n",
      "    },\n",
      "    {\n",
      "        \"time\": \"May 13 00:05:58\",\n",
      "        \"hour\": 0,\n",
      "        \"description\": \"Service exited with abnormal code: 78\",\n",
      "        \"deviceName\": \"BBAOMACBOOKAIR2\",\n",
      "        \"processName\": \"com.apple.xpc.launchd\",\n",
      "        \"processId\": 1\n",
      "    },\n",
      "    {\n",
      "        \"time\": \"May 13 00:09:58\",\n",
      "        \"hour\": 0,\n",
      "        \"description\": \"Could not find uid associated with service: 0: Undefined error: 0 501\",\n",
      "        \"deviceName\": \"BBAOMACBOOKAIR2\",\n",
      "        \"processName\": \"com.apple.xpc.launchd\",\n",
      "        \"processId\": 1\n",
      "    },\n",
      "    {\n",
      "        \"time\": \"May 13 00:09:58\",\n",
      "        \"hour\": 0,\n",
      "        \"description\": \"Service exited with abnormal code: 78\",\n",
      "        \"deviceName\": \"BBAOMACBOOKAIR2\",\n",
      "        \"processName\": \"com.apple.xpc.launchd\",\n",
      "        \"processId\": 1\n",
      "    },\n",
      "    {\n",
      "        \"time\": \"May 13 00:17:59\",\n",
      "        \"hour\": 0,\n",
      "        \"description\": \"Could not find uid associated with service: 0: Undefined error: 0 501\",\n",
      "        \"deviceName\": \"BBAOMACBOOKAIR2\",\n",
      "        \"processName\": \"com.apple.xpc.launchd\",\n",
      "        \"processId\": 1\n",
      "    },\n",
      "    {\n",
      "        \"time\": \"May 13 00:17:59\",\n",
      "        \"hour\": 0,\n",
      "        \"description\": \"Service exited with abnormal code: 78\",\n",
      "        \"deviceName\": \"BBAOMACBOOKAIR2\",\n",
      "        \"processName\": \"com.apple.xpc.launchd\",\n",
      "        \"processId\": 1\n",
      "    }\n",
      "]\n"
     ]
    }
   ],
   "source": [
    "jsonStr = json.dumps([log.__dict__ for log in logs[0:10]], indent=4)\n",
    "print(jsonStr)"
   ]
  },
  {
   "cell_type": "markdown",
   "metadata": {},
   "source": [
    "### 分析日志"
   ]
  },
  {
   "cell_type": "code",
   "execution_count": 8,
   "metadata": {},
   "outputs": [
    {
     "data": {
      "text/plain": [
       "{0: '0000-0100',\n",
       " 1: '0100-0200',\n",
       " 2: '0200-0300',\n",
       " 3: '0300-0400',\n",
       " 4: '0400-0500',\n",
       " 5: '0500-0600',\n",
       " 6: '0600-0700',\n",
       " 7: '0700-0800',\n",
       " 8: '0800-0900',\n",
       " 9: '0900-1000',\n",
       " 10: '1000-1100',\n",
       " 11: '1100-1200',\n",
       " 12: '1200-1300',\n",
       " 13: '1300-1400',\n",
       " 14: '1400-1500',\n",
       " 15: '1500-1600',\n",
       " 16: '1600-1700',\n",
       " 17: '1700-1800',\n",
       " 18: '1800-1900',\n",
       " 19: '1900-2000',\n",
       " 20: '2000-2100',\n",
       " 21: '2100-2200',\n",
       " 22: '2200-2300',\n",
       " 23: '2300-2400'}"
      ]
     },
     "execution_count": 8,
     "metadata": {},
     "output_type": "execute_result"
    }
   ],
   "source": [
    "timeWindows = {}\n",
    "for i in range(9):\n",
    "  val = '0{}00-0{}00'.format(i, i+1)\n",
    "  timeWindows[i] = val\n",
    "\n",
    "timeWindows[9] = '0900-1000'\n",
    "\n",
    "for i in range(10, 24):\n",
    "  val = '{}00-{}00'.format(i, i+1)\n",
    "  timeWindows[i] = val\n",
    "    \n",
    "timeWindows"
   ]
  },
  {
   "cell_type": "code",
   "execution_count": 9,
   "metadata": {},
   "outputs": [],
   "source": [
    "class Result:\n",
    "    pass\n",
    "\n",
    "results = []\n",
    "\n",
    "dict = {}\n",
    "for log in logs:\n",
    "    timeWindow = timeWindows[log.hour]\n",
    "    key = '{}|{}|{}|{}|{}'.format(timeWindow, log.deviceName, log.processId, log.processName, log.description)\n",
    "    if (key in dict):\n",
    "        index = dict[key]\n",
    "        results[index].numberOfOccurrence += 1\n",
    "    else:\n",
    "        result = Result()\n",
    "        result.timeWindow = timeWindows[log.hour]\n",
    "        result.deviceName = log.deviceName\n",
    "        result.processId = log.processId\n",
    "        result.processName = log.processName\n",
    "        result.description = log.description\n",
    "        result.numberOfOccurrence = 1\n",
    "        results.append(result)\n",
    "        dict[key] = len(results) - 1\n"
   ]
  },
  {
   "cell_type": "code",
   "execution_count": 10,
   "metadata": {},
   "outputs": [
    {
     "name": "stdout",
     "output_type": "stream",
     "text": [
      "[\n",
      "    {\n",
      "        \"timeWindow\": \"0000-0100\",\n",
      "        \"deviceName\": \"BBAOMACBOOKAIR2\",\n",
      "        \"processId\": 1,\n",
      "        \"processName\": \"com.apple.xpc.launchd\",\n",
      "        \"description\": \"Could not find uid associated with service: 0: Undefined error: 0 501\",\n",
      "        \"numberOfOccurrence\": 17\n",
      "    },\n",
      "    {\n",
      "        \"timeWindow\": \"0000-0100\",\n",
      "        \"deviceName\": \"BBAOMACBOOKAIR2\",\n",
      "        \"processId\": 1,\n",
      "        \"processName\": \"com.apple.xpc.launchd\",\n",
      "        \"description\": \"Service exited with abnormal code: 78\",\n",
      "        \"numberOfOccurrence\": 17\n",
      "    },\n",
      "    {\n",
      "        \"timeWindow\": \"0000-0100\",\n",
      "        \"deviceName\": \"BBAOMACBOOKAIR2\",\n",
      "        \"processId\": 1,\n",
      "        \"processName\": \"com.apple.xpc.launchd\",\n",
      "        \"description\": \"Failed to bootstrap path: path = /usr/libexec/mdmclient, error = 108: Invalid path\",\n",
      "        \"numberOfOccurrence\": 1\n",
      "    },\n",
      "    {\n",
      "        \"timeWindow\": \"0000-0100\",\n",
      "        \"deviceName\": \"BBAOMACBOOKAIR2\",\n",
      "        \"processId\": 113,\n",
      "        \"processName\": \"syslogd\",\n",
      "        \"description\": \"ASL Sender Statistics\",\n",
      "        \"numberOfOccurrence\": 6\n",
      "    },\n",
      "    {\n",
      "        \"timeWindow\": \"0000-0100\",\n",
      "        \"deviceName\": \"BBAOMACBOOKAIR2\",\n",
      "        \"processId\": 1,\n",
      "        \"processName\": \"com.apple.xpc.launchd\",\n",
      "        \"description\": \"Service \\\"com.apple.xpc.launchd.unmanaged.loginwindow.594\\\" tried to register for endpoint \\\"com.apple.tsm.uiserver\\\" already registered by owner: com.apple.TextInputMenuAgent\",\n",
      "        \"numberOfOccurrence\": 1\n",
      "    },\n",
      "    {\n",
      "        \"timeWindow\": \"0000-0100\",\n",
      "        \"deviceName\": \"BBAOMACBOOKAIR2\",\n",
      "        \"processId\": 158,\n",
      "        \"processName\": \"timed\",\n",
      "        \"description\": \"settimeofday({0x5ebacd96,0x52ddf}) == 0\",\n",
      "        \"numberOfOccurrence\": 1\n",
      "    },\n",
      "    {\n",
      "        \"timeWindow\": \"0000-0100\",\n",
      "        \"deviceName\": \"BBAOMACBOOKAIR2\",\n",
      "        \"processId\": 1,\n",
      "        \"processName\": \"com.apple.xpc.launchd\",\n",
      "        \"description\": \"Service exited due to SIGKILL | sent by Computer Name[12564]\",\n",
      "        \"numberOfOccurrence\": 1\n",
      "    },\n",
      "    {\n",
      "        \"timeWindow\": \"0000-0100\",\n",
      "        \"deviceName\": \"BBAOMACBOOKAIR2\",\n",
      "        \"processId\": 960,\n",
      "        \"processName\": \"VTDecoderXPCService\",\n",
      "        \"description\": \"DEPRECATED USE in libdispatch client: Changing the target of a source after it has been activated; set a breakpoint on _dispatch_bug_deprecated to debug\",\n",
      "        \"numberOfOccurrence\": 4\n",
      "    },\n",
      "    {\n",
      "        \"timeWindow\": \"0000-0100\",\n",
      "        \"deviceName\": \"BBAOMACBOOKAIR2\",\n",
      "        \"processId\": 960,\n",
      "        \"processName\": \"VTDecoderXPCService\",\n",
      "        \"description\": \"DEPRECATED USE in libdispatch client: Changing target queue hierarchy after xpc connection was activated; set a breakpoint on _dispatch_bug_deprecated to debug\",\n",
      "        \"numberOfOccurrence\": 4\n",
      "    },\n",
      "    {\n",
      "        \"timeWindow\": \"0000-0100\",\n",
      "        \"deviceName\": \"BBAOMACBOOKAIR2\",\n",
      "        \"processId\": 1,\n",
      "        \"processName\": \"com.apple.xpc.launchd\",\n",
      "        \"description\": \"Service only ran for 9 seconds. Pushing respawn out by 1 seconds.\",\n",
      "        \"numberOfOccurrence\": 1\n",
      "    }\n",
      "]\n"
     ]
    }
   ],
   "source": [
    "jsonStr = json.dumps([result.__dict__ for result in results[0:10]], indent=4)\n",
    "print(jsonStr)"
   ]
  },
  {
   "cell_type": "markdown",
   "metadata": {},
   "source": [
    "### 上传分析结果"
   ]
  },
  {
   "cell_type": "code",
   "execution_count": 11,
   "metadata": {},
   "outputs": [
    {
     "data": {
      "text/plain": [
       "<Response [200]>"
      ]
     },
     "execution_count": 11,
     "metadata": {},
     "output_type": "execute_result"
    }
   ],
   "source": [
    "headers = {'Content-type': 'application/json', 'Accept': 'text/plain'}\n",
    "res = requests.post('http://localhost', headers = headers, data = jsonStr)\n",
    "res"
   ]
  }
 ],
 "metadata": {
  "kernelspec": {
   "display_name": "Python 3",
   "language": "python",
   "name": "python3"
  },
  "language_info": {
   "codemirror_mode": {
    "name": "ipython",
    "version": 3
   },
   "file_extension": ".py",
   "mimetype": "text/x-python",
   "name": "python",
   "nbconvert_exporter": "python",
   "pygments_lexer": "ipython3",
   "version": "3.7.6"
  }
 },
 "nbformat": 4,
 "nbformat_minor": 4
}
